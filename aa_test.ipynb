{
 "cells": [
  {
   "cell_type": "markdown",
   "id": "c56a95e4-0b7e-4fd7-97e5-607ed9864942",
   "metadata": {},
   "source": [
    "Split testing verification - if everything is functioning correctly, statistically significant differences between two groups were obtained in less than 5% of cases out of 10,000 A/A tests.  \n",
    "I will create a simulation of 10,000 A/A tests with a subsample of 500 users.\n",
    "\n",
    "Tasks:  \n",
    "1.Make a histogram representing the distribution of the 10,000 p-values.  \n",
    "2.Calculate the percentage of p-values that are less than or equal to 0.05.  \n",
    "3.Write a conclusion."
   ]
  },
  {
   "cell_type": "code",
   "execution_count": 1,
   "id": "315a4fe5-b27e-4262-832a-4cb32cd8c108",
   "metadata": {},
   "outputs": [],
   "source": [
    "#importing libraries\n",
    "import pandas as pd\n",
    "import numpy as np\n",
    "import scipy as sp\n",
    "from scipy.stats import ttest_ind\n",
    "import matplotlib.pyplot as plt\n",
    "import seaborn as sns\n",
    "import pandahouse \n",
    "%matplotlib inline"
   ]
  },
  {
   "cell_type": "code",
   "execution_count": 2,
   "id": "9cdce267-4085-4b73-af78-648001c2e39e",
   "metadata": {},
   "outputs": [],
   "source": [
    "connection = {'host': '***',\n",
    "                      'database':'***',\n",
    "                      'user':'***', \n",
    "                      'password':'***'\n",
    "                     }"
   ]
  },
  {
   "cell_type": "code",
   "execution_count": 3,
   "id": "bf3de181-5a74-4329-8c48-75ae8dfb8042",
   "metadata": {},
   "outputs": [],
   "source": [
    "#creating a functionn to simplify the workflow\n",
    "def select(sql):\n",
    "    \n",
    "    table = pandahouse.read_clickhouse(sql, connection=connection)\n",
    "    return table"
   ]
  },
  {
   "cell_type": "code",
   "execution_count": 4,
   "id": "7420511f-4362-4574-8361-e4ee23d9b87b",
   "metadata": {},
   "outputs": [
    {
     "data": {
      "text/html": [
       "<div>\n",
       "<style scoped>\n",
       "    .dataframe tbody tr th:only-of-type {\n",
       "        vertical-align: middle;\n",
       "    }\n",
       "\n",
       "    .dataframe tbody tr th {\n",
       "        vertical-align: top;\n",
       "    }\n",
       "\n",
       "    .dataframe thead th {\n",
       "        text-align: right;\n",
       "    }\n",
       "</style>\n",
       "<table border=\"1\" class=\"dataframe\">\n",
       "  <thead>\n",
       "    <tr style=\"text-align: right;\">\n",
       "      <th></th>\n",
       "      <th>user_id</th>\n",
       "      <th>date</th>\n",
       "      <th>gender</th>\n",
       "      <th>age</th>\n",
       "      <th>os</th>\n",
       "      <th>source</th>\n",
       "      <th>country</th>\n",
       "      <th>exp_group</th>\n",
       "      <th>ctr</th>\n",
       "    </tr>\n",
       "  </thead>\n",
       "  <tbody>\n",
       "    <tr>\n",
       "      <th>0</th>\n",
       "      <td>118799</td>\n",
       "      <td>2023-03-25</td>\n",
       "      <td>1</td>\n",
       "      <td>20</td>\n",
       "      <td>Android</td>\n",
       "      <td>organic</td>\n",
       "      <td>Russia</td>\n",
       "      <td>2</td>\n",
       "      <td>0.025316</td>\n",
       "    </tr>\n",
       "    <tr>\n",
       "      <th>1</th>\n",
       "      <td>3852</td>\n",
       "      <td>2023-03-25</td>\n",
       "      <td>1</td>\n",
       "      <td>16</td>\n",
       "      <td>Android</td>\n",
       "      <td>ads</td>\n",
       "      <td>Russia</td>\n",
       "      <td>2</td>\n",
       "      <td>0.166667</td>\n",
       "    </tr>\n",
       "    <tr>\n",
       "      <th>2</th>\n",
       "      <td>123634</td>\n",
       "      <td>2023-03-25</td>\n",
       "      <td>1</td>\n",
       "      <td>32</td>\n",
       "      <td>Android</td>\n",
       "      <td>organic</td>\n",
       "      <td>Russia</td>\n",
       "      <td>2</td>\n",
       "      <td>0.145833</td>\n",
       "    </tr>\n",
       "    <tr>\n",
       "      <th>3</th>\n",
       "      <td>117987</td>\n",
       "      <td>2023-03-25</td>\n",
       "      <td>1</td>\n",
       "      <td>56</td>\n",
       "      <td>Android</td>\n",
       "      <td>organic</td>\n",
       "      <td>Russia</td>\n",
       "      <td>2</td>\n",
       "      <td>0.226415</td>\n",
       "    </tr>\n",
       "    <tr>\n",
       "      <th>4</th>\n",
       "      <td>7428</td>\n",
       "      <td>2023-03-25</td>\n",
       "      <td>1</td>\n",
       "      <td>20</td>\n",
       "      <td>Android</td>\n",
       "      <td>ads</td>\n",
       "      <td>Russia</td>\n",
       "      <td>2</td>\n",
       "      <td>0.120000</td>\n",
       "    </tr>\n",
       "  </tbody>\n",
       "</table>\n",
       "</div>"
      ],
      "text/plain": [
       "   user_id       date  gender  age       os   source country  exp_group  \\\n",
       "0   118799 2023-03-25       1   20  Android  organic  Russia          2   \n",
       "1     3852 2023-03-25       1   16  Android      ads  Russia          2   \n",
       "2   123634 2023-03-25       1   32  Android  organic  Russia          2   \n",
       "3   117987 2023-03-25       1   56  Android  organic  Russia          2   \n",
       "4     7428 2023-03-25       1   20  Android      ads  Russia          2   \n",
       "\n",
       "        ctr  \n",
       "0  0.025316  \n",
       "1  0.166667  \n",
       "2  0.145833  \n",
       "3  0.226415  \n",
       "4  0.120000  "
      ]
     },
     "execution_count": 4,
     "metadata": {},
     "output_type": "execute_result"
    }
   ],
   "source": [
    "#extracting the data and save it to a dataset.\n",
    "sql = '''\n",
    "\n",
    "SELECT  user_id,\n",
    "        toDate(time) as date,\n",
    "        gender,\n",
    "        age,\n",
    "        os,\n",
    "        source,\n",
    "        country,\n",
    "        exp_group,\n",
    "        countIf(action = 'like') / countIf(action = 'view') as ctr\n",
    "        \n",
    "FROM {db}.feed_actions \n",
    "WHERE exp_group in (2,3)  AND \n",
    "                        (toDate(time) >= '2023-03-25' and toDate(time) <= '2023-03-31' )\n",
    "GROUP BY user_id, \n",
    "         date,\n",
    "         gender,\n",
    "         age,\n",
    "         os,\n",
    "         source,\n",
    "         country,\n",
    "         exp_group\n",
    "ORDER BY date\n",
    "\n",
    "'''\n",
    "\n",
    "exp_groups = select(sql)\n",
    "exp_groups.head()"
   ]
  },
  {
   "cell_type": "markdown",
   "id": "16cd3324-af99-49bd-a10e-edd8ed1ce492",
   "metadata": {},
   "source": [
    "# AA-test"
   ]
  },
  {
   "cell_type": "code",
   "execution_count": 5,
   "id": "32b138a2-ba76-4ae1-ad39-c1452196dc81",
   "metadata": {},
   "outputs": [],
   "source": [
    "#creating a list to save the p-values.\n",
    "p_values=[]"
   ]
  },
  {
   "cell_type": "code",
   "execution_count": 17,
   "id": "ea7a1627-d1dd-4bd4-97e4-2fc7d1e884b2",
   "metadata": {},
   "outputs": [],
   "source": [
    "#A loop to repeat 10,000 times.\n",
    "for i in range(10000):\n",
    "    # selecting 500 random users\n",
    "    group2 = exp_groups.query('exp_group == 2').sample(500, replace=False)\n",
    "    group3 = exp_groups.query('exp_group == 3').sample(500, replace=False)\n",
    "    sample=pd.concat([group2,group3])\n",
    "    #t-test\n",
    "    t, p = ttest_ind(group2['ctr'], group3['ctr'], equal_var=False)\n",
    "    #adding the p-value to the previously created list\n",
    "    p_values.append(p)"
   ]
  },
  {
   "cell_type": "code",
   "execution_count": 18,
   "id": "f41dfe23-344d-438c-92f4-d9f915979725",
   "metadata": {},
   "outputs": [
    {
     "data": {
      "text/plain": [
       "<AxesSubplot:ylabel='Count'>"
      ]
     },
     "execution_count": 18,
     "metadata": {},
     "output_type": "execute_result"
    },
    {
     "data": {
      "image/png": "[encoded data removed]",
      "text/plain": [
       "<Figure size 432x288 with 1 Axes>"
      ]
     },
     "metadata": {
      "needs_background": "light"
     },
     "output_type": "display_data"
    }
   ],
   "source": [
    "#plot the distribution histogram \n",
    "sns.histplot(data=p_values)"
   ]
  },
  {
   "cell_type": "code",
   "execution_count": 24,
   "id": "6124c342-b4ee-4e90-9240-273aceba9f71",
   "metadata": {},
   "outputs": [
    {
     "data": {
      "text/plain": [
       "4.92"
      ]
     },
     "execution_count": 24,
     "metadata": {},
     "output_type": "execute_result"
    }
   ],
   "source": [
    "#calculate the percentage of p-values that are less than or equal to alpha\n",
    "count_pv = 0\n",
    "for i in p_values:\n",
    "    if i <= 0.05:\n",
    "        count_pv += 1\n",
    "share = round(count_pv * 100 / len(p_values), 2)\n",
    "share"
   ]
  },
  {
   "cell_type": "markdown",
   "id": "0923c14e-29c9-4900-989b-cc61091ae371",
   "metadata": {},
   "source": [
    "## Creating and analyzing a graph for the A/A test. "
   ]
  },
  {
   "cell_type": "code",
   "execution_count": 25,
   "id": "519c6927-94dc-4f6b-a3cf-fd21d1f22de2",
   "metadata": {},
   "outputs": [
    {
     "data": {
      "text/html": [
       "<div>\n",
       "<style scoped>\n",
       "    .dataframe tbody tr th:only-of-type {\n",
       "        vertical-align: middle;\n",
       "    }\n",
       "\n",
       "    .dataframe tbody tr th {\n",
       "        vertical-align: top;\n",
       "    }\n",
       "\n",
       "    .dataframe thead th {\n",
       "        text-align: right;\n",
       "    }\n",
       "</style>\n",
       "<table border=\"1\" class=\"dataframe\">\n",
       "  <thead>\n",
       "    <tr style=\"text-align: right;\">\n",
       "      <th></th>\n",
       "      <th>user_id</th>\n",
       "      <th>date</th>\n",
       "      <th>gender</th>\n",
       "      <th>age</th>\n",
       "      <th>os</th>\n",
       "      <th>source</th>\n",
       "      <th>country</th>\n",
       "      <th>ctr</th>\n",
       "    </tr>\n",
       "    <tr>\n",
       "      <th>exp_group</th>\n",
       "      <th></th>\n",
       "      <th></th>\n",
       "      <th></th>\n",
       "      <th></th>\n",
       "      <th></th>\n",
       "      <th></th>\n",
       "      <th></th>\n",
       "      <th></th>\n",
       "    </tr>\n",
       "  </thead>\n",
       "  <tbody>\n",
       "    <tr>\n",
       "      <th>2</th>\n",
       "      <td>16905</td>\n",
       "      <td>16905</td>\n",
       "      <td>16905</td>\n",
       "      <td>16905</td>\n",
       "      <td>16905</td>\n",
       "      <td>16905</td>\n",
       "      <td>16905</td>\n",
       "      <td>16905</td>\n",
       "    </tr>\n",
       "    <tr>\n",
       "      <th>3</th>\n",
       "      <td>17232</td>\n",
       "      <td>17232</td>\n",
       "      <td>17232</td>\n",
       "      <td>17232</td>\n",
       "      <td>17232</td>\n",
       "      <td>17232</td>\n",
       "      <td>17232</td>\n",
       "      <td>17232</td>\n",
       "    </tr>\n",
       "  </tbody>\n",
       "</table>\n",
       "</div>"
      ],
      "text/plain": [
       "           user_id   date  gender    age     os  source  country    ctr\n",
       "exp_group                                                              \n",
       "2            16905  16905   16905  16905  16905   16905    16905  16905\n",
       "3            17232  17232   17232  17232  17232   17232    17232  17232"
      ]
     },
     "execution_count": 25,
     "metadata": {},
     "output_type": "execute_result"
    }
   ],
   "source": [
    "exp_groups.groupby('exp_group').count()"
   ]
  },
  {
   "cell_type": "code",
   "execution_count": 30,
   "id": "0d15714d-04ce-4ee0-8774-74e2c62efdbd",
   "metadata": {},
   "outputs": [
    {
     "data": {
      "image/png": "[encoded data removed]",
      "text/plain": [
       "<Figure size 864x648 with 1 Axes>"
      ]
     },
     "metadata": {},
     "output_type": "display_data"
    }
   ],
   "source": [
    "sns.set(rc={'figure.figsize': (12, 9)})\n",
    "exp_groups_graph = sns.histplot(data=exp_groups , \n",
    "                                x='ctr', \n",
    "                                hue='exp_group',\n",
    "                                palette=['b', 'g'],\n",
    "                                alpha=0.5,\n",
    "                                kde=False)"
   ]
  },
  {
   "cell_type": "markdown",
   "id": "cec8582b-04a9-4f02-bc30-94edb8aa646f",
   "metadata": {},
   "source": [
    "# Conclusion:\n",
    "After calculating the p-value and comparing it with the alpha value, it became clear that statistically significant differences between the two groups were found in 4.92% of cases out of 10,000. Overall, it can be concluded that the system is functioning correctly, and the results of the A/A test can be trusted.\n",
    "  \n",
    "The distribution analysis of the graph revealed that the distribution is similar to a normal distribution and comparable between the groups."
   ]
  },
  {
   "cell_type": "code",
   "execution_count": null,
   "id": "c6ca61d8-c7d1-4d38-8c66-e4dd39f30891",
   "metadata": {},
   "outputs": [],
   "source": []
  }
 ],
 "metadata": {
  "kernelspec": {
   "display_name": "Python 3 (ipykernel)",
   "language": "python",
   "name": "python3"
  },
  "language_info": {
   "codemirror_mode": {
    "name": "ipython",
    "version": 3
   },
   "file_extension": ".py",
   "mimetype": "text/x-python",
   "name": "python",
   "nbconvert_exporter": "python",
   "pygments_lexer": "ipython3",
   "version": "3.8.10"
  }
 },
 "nbformat": 4,
 "nbformat_minor": 5
}
