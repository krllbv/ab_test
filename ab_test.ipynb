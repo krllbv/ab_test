{
 "cells": [
  {
   "cell_type": "markdown",
   "id": "73bbf926-2301-40f4-acdd-21dd660d5491",
   "metadata": {},
   "source": [
    "Tasks:  \n",
    "1.Analyze the results of the A/B testing between Group 2 and Group 1\n",
    "Group 2 use a new algorithm that expected to increase the CTR, while Group 1 serves as the control group.  \n",
    "2.Apply different methods, control and describe the results, suggest recommendation for the algorithm."
   ]
  },
  {
   "cell_type": "markdown",
   "id": "2f014583-e05d-4e92-9cb3-1b3f08233709",
   "metadata": {},
   "source": [
    "Main hypotheses:  \n",
    "HO: The algorithm does not affect CTR.  \n",
    "H1: The algorithm does affect CTR."
   ]
  },
  {
   "cell_type": "markdown",
   "id": "2e17bbe6-5370-4da9-8e95-9f687926390e",
   "metadata": {
    "tags": []
   },
   "source": [
    "# A/B test analysis"
   ]
  },
  {
   "cell_type": "code",
   "execution_count": 2,
   "id": "860c006f-ca9e-43d3-9f66-e84273d7b363",
   "metadata": {},
   "outputs": [],
   "source": [
    "#importing libraries\n",
    "import pandas as pd\n",
    "import numpy as np\n",
    "import scipy as sp\n",
    "from scipy import stats\n",
    "import matplotlib.pyplot as plt\n",
    "import seaborn as sns\n",
    "import pandahouse \n",
    "%matplotlib inline"
   ]
  },
  {
   "cell_type": "code",
   "execution_count": 3,
   "id": "e7c55503-96fe-4553-8eee-cb6ce7be8695",
   "metadata": {},
   "outputs": [],
   "source": [
    "connection = {'host': '***',\n",
    "                      'database':'***',\n",
    "                      'user':'***', \n",
    "                      'password':'***'\n",
    "                     }"
   ]
  },
  {
   "cell_type": "code",
   "execution_count": 4,
   "id": "e1be5e22-3a41-49af-a75c-ae6819f0acdc",
   "metadata": {},
   "outputs": [],
   "source": [
    "#creating a functionn to simplify the workflow\n",
    "def select(sql):\n",
    "    \n",
    "    table = pandahouse.read_clickhouse(sql, connection=connection)\n",
    "    return table"
   ]
  },
  {
   "cell_type": "code",
   "execution_count": 5,
   "id": "c9a08266-75a9-402f-8c7e-83a64b8fd82a",
   "metadata": {},
   "outputs": [
    {
     "data": {
      "text/html": [
       "<div>\n",
       "<style scoped>\n",
       "    .dataframe tbody tr th:only-of-type {\n",
       "        vertical-align: middle;\n",
       "    }\n",
       "\n",
       "    .dataframe tbody tr th {\n",
       "        vertical-align: top;\n",
       "    }\n",
       "\n",
       "    .dataframe thead th {\n",
       "        text-align: right;\n",
       "    }\n",
       "</style>\n",
       "<table border=\"1\" class=\"dataframe\">\n",
       "  <thead>\n",
       "    <tr style=\"text-align: right;\">\n",
       "      <th></th>\n",
       "      <th>user_id</th>\n",
       "      <th>exp_group</th>\n",
       "      <th>likes</th>\n",
       "      <th>views</th>\n",
       "      <th>ctr</th>\n",
       "    </tr>\n",
       "  </thead>\n",
       "  <tbody>\n",
       "    <tr>\n",
       "      <th>0</th>\n",
       "      <td>109963</td>\n",
       "      <td>1</td>\n",
       "      <td>3</td>\n",
       "      <td>15</td>\n",
       "      <td>0.200000</td>\n",
       "    </tr>\n",
       "    <tr>\n",
       "      <th>1</th>\n",
       "      <td>26117</td>\n",
       "      <td>1</td>\n",
       "      <td>32</td>\n",
       "      <td>141</td>\n",
       "      <td>0.226950</td>\n",
       "    </tr>\n",
       "    <tr>\n",
       "      <th>2</th>\n",
       "      <td>138232</td>\n",
       "      <td>1</td>\n",
       "      <td>18</td>\n",
       "      <td>73</td>\n",
       "      <td>0.246575</td>\n",
       "    </tr>\n",
       "    <tr>\n",
       "      <th>3</th>\n",
       "      <td>26295</td>\n",
       "      <td>1</td>\n",
       "      <td>33</td>\n",
       "      <td>122</td>\n",
       "      <td>0.270492</td>\n",
       "    </tr>\n",
       "    <tr>\n",
       "      <th>4</th>\n",
       "      <td>18392</td>\n",
       "      <td>1</td>\n",
       "      <td>7</td>\n",
       "      <td>32</td>\n",
       "      <td>0.218750</td>\n",
       "    </tr>\n",
       "  </tbody>\n",
       "</table>\n",
       "</div>"
      ],
      "text/plain": [
       "   user_id  exp_group  likes  views       ctr\n",
       "0   109963          1      3     15  0.200000\n",
       "1    26117          1     32    141  0.226950\n",
       "2   138232          1     18     73  0.246575\n",
       "3    26295          1     33    122  0.270492\n",
       "4    18392          1      7     32  0.218750"
      ]
     },
     "execution_count": 5,
     "metadata": {},
     "output_type": "execute_result"
    }
   ],
   "source": [
    "#extracting the data and save it to a dataset.\n",
    "sql = '''\n",
    "\n",
    "SELECT user_id, \n",
    "        exp_group,\n",
    "        countIf(action, action='like') as likes,\n",
    "        countIf(action, action='view') as views,\n",
    "        countIf(action, action='like') / countIf(action, action='view') as ctr        \n",
    "FROM {db}.feed_actions \n",
    "WHERE exp_group in (1,2)  AND \n",
    "                        (toDate(time) >= '2023-04-01' and toDate(time) <= '2023-04-07' )\n",
    "GROUP BY user_id, \n",
    "         exp_group\n",
    "ORDER BY 1\n",
    "\n",
    "'''\n",
    "\n",
    "groups = select(sql)\n",
    "groups.head()"
   ]
  },
  {
   "cell_type": "code",
   "execution_count": 6,
   "id": "d7fff01d-57db-4cb4-b86b-f4f6264cd637",
   "metadata": {},
   "outputs": [
    {
     "data": {
      "text/plain": [
       "(0.21441927347479375, 0.21560459841296287)"
      ]
     },
     "execution_count": 6,
     "metadata": {},
     "output_type": "execute_result"
    }
   ],
   "source": [
    "groups[groups.exp_group == 2].ctr.mean(), groups[groups.exp_group == 1].ctr.mean()"
   ]
  },
  {
   "cell_type": "code",
   "execution_count": 7,
   "id": "14bffdd3-33b4-4ea7-a278-4a489e038aab",
   "metadata": {},
   "outputs": [
    {
     "data": {
      "image/png": "[encoded data removed]",
      "text/plain": [
       "<Figure size 792x360 with 1 Axes>"
      ]
     },
     "metadata": {},
     "output_type": "display_data"
    }
   ],
   "source": [
    "sns.set(rc={'figure.figsize': (11, 5)})\n",
    "groups_graph = sns.histplot(data=groups , \n",
    "                                x='ctr', \n",
    "                                hue='exp_group',\n",
    "                                palette=['b', 'r'],\n",
    "                                alpha=0.5,\n",
    "                                kde=False).set(title='Main chart')"
   ]
  },
  {
   "cell_type": "markdown",
   "id": "7d3f1f6b-724e-4222-a3b8-6b8ef0676f74",
   "metadata": {},
   "source": [
    "On the main chart, it can be observed that there are differences between two groups. The CTR graph of the first group has unimodal (almost normal) distribution, while the CTR graph of the second group shows a bimodal distribution.\n",
    "According to theory, applying a t-test in such case would have unreliable results (but I performed it to show you an example)."
   ]
  },
  {
   "cell_type": "markdown",
   "id": "0c3ebd8d-ed2a-4c38-8ce6-8781053a1390",
   "metadata": {
    "tags": []
   },
   "source": [
    "## 1.t-test"
   ]
  },
  {
   "cell_type": "code",
   "execution_count": 51,
   "id": "dde4d89b-9b3a-4df6-a105-fc75c6fca480",
   "metadata": {},
   "outputs": [
    {
     "data": {
      "text/plain": [
       "Ttest_indResult(statistic=-0.7094392041270486, pvalue=0.4780623130874935)"
      ]
     },
     "execution_count": 51,
     "metadata": {},
     "output_type": "execute_result"
    }
   ],
   "source": [
    "stats.ttest_ind(groups[groups.exp_group == 2].ctr,\n",
    "                groups[groups.exp_group == 1].ctr,\n",
    "                equal_var=False)"
   ]
  },
  {
   "cell_type": "markdown",
   "id": "ac1e2eca-10ce-4a1f-beef-750b17a1219c",
   "metadata": {},
   "source": [
    "The results of the t-test indicate that there are no statistically significant differences. We cannot be confident that the groups differ from each other,   \n",
    "therefore, there is no evidence to reject the null hypothesis (H0)."
   ]
  },
  {
   "cell_type": "markdown",
   "id": "198ddfe2-fb18-49fd-975f-fd842748773f",
   "metadata": {},
   "source": [
    "## 2.Mann–Whitney U test"
   ]
  },
  {
   "cell_type": "code",
   "execution_count": 52,
   "id": "e22b2d02-faf6-408e-a42d-b16047aca821",
   "metadata": {},
   "outputs": [
    {
     "data": {
      "text/plain": [
       "MannwhitneyuResult(statistic=43704947.5, pvalue=6.0376484617779035e-56)"
      ]
     },
     "execution_count": 52,
     "metadata": {},
     "output_type": "execute_result"
    }
   ],
   "source": [
    "stats.mannwhitneyu(groups[groups.exp_group == 2].ctr,\n",
    "                    groups[groups.exp_group == 1].ctr,\n",
    "                    alternative='two-sided')"
   ]
  },
  {
   "cell_type": "markdown",
   "id": "a0ae5751-2509-4054-87eb-c83d5340285d",
   "metadata": {},
   "source": [
    "The Mann-Whitney test indicates that the differences between the groups are statistically significant."
   ]
  },
  {
   "cell_type": "markdown",
   "id": "a12874b3-a849-4763-b54c-cabd76e55916",
   "metadata": {},
   "source": [
    "## 3.Smoothed CTR method"
   ]
  },
  {
   "cell_type": "code",
   "execution_count": 53,
   "id": "07b4772d-87b6-40d0-b93f-c299d8205919",
   "metadata": {},
   "outputs": [],
   "source": [
    "def get_smothed_ctr(user_likes, user_views, global_ctr, alpha):\n",
    "    smothed_ctr = (user_likes + alpha * global_ctr) / (user_views + alpha)\n",
    "    return smothed_ctr"
   ]
  },
  {
   "cell_type": "code",
   "execution_count": 54,
   "id": "2683f6ba-c2f5-4759-92d2-84572fda1296",
   "metadata": {},
   "outputs": [],
   "source": [
    "global_ctr_1 = groups[groups.exp_group == 2].likes.sum()/groups[groups.exp_group == 2].views.sum()\n",
    "global_ctr_2 = groups[groups.exp_group == 1].likes.sum()/groups[groups.exp_group == 1].views.sum()"
   ]
  },
  {
   "cell_type": "code",
   "execution_count": 55,
   "id": "1273f4d0-e04d-4f1a-bd5c-2da6d6fb4206",
   "metadata": {},
   "outputs": [],
   "source": [
    "group1 = groups[groups.exp_group == 1].copy()\n",
    "group2 = groups[groups.exp_group == 2].copy()\n",
    "\n",
    "group1['smothed_ctr'] = groups.apply(\n",
    "    lambda x: get_smothed_ctr(x['likes'], x['views'], global_ctr_1, 5), axis=1)\n",
    "\n",
    "group2['smothed_ctr'] = groups.apply(\n",
    "    lambda x: get_smothed_ctr(x['likes'], x['views'], global_ctr_2, 5), axis=1)\n",
    "\n"
   ]
  },
  {
   "cell_type": "code",
   "execution_count": 56,
   "id": "50e10179-c422-488d-a5ef-717e030fb9af",
   "metadata": {},
   "outputs": [
    {
     "data": {
      "text/plain": [
       "Ttest_indResult(statistic=0.8022146784040156, pvalue=0.42244087372344064)"
      ]
     },
     "execution_count": 56,
     "metadata": {},
     "output_type": "execute_result"
    }
   ],
   "source": [
    "stats.ttest_ind(group1.smothed_ctr,\n",
    "                group2.smothed_ctr,\n",
    "                equal_var=False)"
   ]
  },
  {
   "cell_type": "markdown",
   "id": "ada6edcf-b9d1-4e8b-a6b1-a3472a6d62ed",
   "metadata": {},
   "source": [
    "The differences between the groups are not considered statistically significant as the p-value is greater than 0.05."
   ]
  },
  {
   "cell_type": "markdown",
   "id": "65be5d78-a2ef-4706-8be9-7c15450939ac",
   "metadata": {},
   "source": [
    "### A graph of the normal(not-smoothed CTR) (Click-Through Rate)."
   ]
  },
  {
   "cell_type": "code",
   "execution_count": 74,
   "id": "7b599904-3b22-46de-89b8-b781a7f35d4b",
   "metadata": {},
   "outputs": [
    {
     "data": {
      "text/plain": [
       "[Text(0.5, 1.0, 'Group 1')]"
      ]
     },
     "execution_count": 74,
     "metadata": {},
     "output_type": "execute_result"
    },
    {
     "data": {
      "image/png": "[encoded data removed]",
      "text/plain": [
       "<Figure size 792x360 with 1 Axes>"
      ]
     },
     "metadata": {},
     "output_type": "display_data"
    }
   ],
   "source": [
    "sns.histplot(group1.ctr,\n",
    "             kde=False).set(title='Group 1')"
   ]
  },
  {
   "cell_type": "code",
   "execution_count": 75,
   "id": "4f605e04-f116-44b2-8d84-89eb7664b855",
   "metadata": {},
   "outputs": [
    {
     "data": {
      "text/plain": [
       "[Text(0.5, 1.0, 'Group 2')]"
      ]
     },
     "execution_count": 75,
     "metadata": {},
     "output_type": "execute_result"
    },
    {
     "data": {
      "image/png": "[encoded data removed]",
      "text/plain": [
       "<Figure size 792x360 with 1 Axes>"
      ]
     },
     "metadata": {},
     "output_type": "display_data"
    }
   ],
   "source": [
    "sns.histplot(group2.ctr,\n",
    "             kde=False).set(title='Group 2')"
   ]
  },
  {
   "cell_type": "markdown",
   "id": "78eb33fa-1c54-4d70-a5d5-9e4e807693d1",
   "metadata": {},
   "source": [
    "### A graph of the smoothed CTR"
   ]
  },
  {
   "cell_type": "code",
   "execution_count": 76,
   "id": "ab7362ec-4a16-4088-ac89-5864377349e6",
   "metadata": {},
   "outputs": [
    {
     "data": {
      "text/plain": [
       "[Text(0.5, 1.0, 'Group 1 smoothed')]"
      ]
     },
     "execution_count": 76,
     "metadata": {},
     "output_type": "execute_result"
    },
    {
     "data": {
      "image/png": "[encoded data removed]",
      "text/plain": [
       "<Figure size 792x360 with 1 Axes>"
      ]
     },
     "metadata": {},
     "output_type": "display_data"
    }
   ],
   "source": [
    "sns.histplot(group1.smothed_ctr,\n",
    "             kde=False).set(title='Group 1 smoothed')"
   ]
  },
  {
   "cell_type": "code",
   "execution_count": 77,
   "id": "b1d038d7-cde8-413b-90b2-aa19d58a0285",
   "metadata": {},
   "outputs": [
    {
     "data": {
      "text/plain": [
       "[Text(0.5, 1.0, 'Group 2 smoothed')]"
      ]
     },
     "execution_count": 77,
     "metadata": {},
     "output_type": "execute_result"
    },
    {
     "data": {
      "image/png": "[encoded data removed]",
      "text/plain": [
       "<Figure size 792x360 with 1 Axes>"
      ]
     },
     "metadata": {},
     "output_type": "display_data"
    }
   ],
   "source": [
    "sns.histplot(group2.smothed_ctr,\n",
    "             kde=False).set(title='Group 2 smoothed')"
   ]
  },
  {
   "cell_type": "markdown",
   "id": "aa9d772f-ba55-48e0-a76d-da0dbc8dd9f5",
   "metadata": {},
   "source": [
    "Based on the graphs, it can be seen that after applying the \"smoothing\" method, the graphs have been slightly adjusted."
   ]
  },
  {
   "cell_type": "markdown",
   "id": "1dbe657c-ad60-4d66-91ba-37f9f1237cc2",
   "metadata": {},
   "source": [
    "## 4.Poisson bootstrap"
   ]
  },
  {
   "cell_type": "code",
   "execution_count": 32,
   "id": "84209f5e-ef3d-49d9-9687-be629767be84",
   "metadata": {},
   "outputs": [],
   "source": [
    "def bootstrap(likes1, views1, likes2, views2, n_bootstrap=2000):\n",
    "\n",
    "    poisson_bootstraps1 = stats.poisson(1).rvs(\n",
    "        (n_bootstrap, len(likes1))).astype(np.int64)\n",
    "\n",
    "    poisson_bootstraps2 = stats.poisson(1).rvs(\n",
    "            (n_bootstrap, len(likes2))).astype(np.int64)\n",
    "    \n",
    "    globalCTR1 = (poisson_bootstraps1*likes1).sum(axis=1)/(poisson_bootstraps1*views1).sum(axis=1)\n",
    "    \n",
    "    globalCTR2 = (poisson_bootstraps2*likes2).sum(axis=1)/(poisson_bootstraps2*views2).sum(axis=1)\n",
    "\n",
    "    return globalCTR1, globalCTR2"
   ]
  },
  {
   "cell_type": "code",
   "execution_count": 33,
   "id": "4529e0fd-648c-4d9d-a1a4-6f36994e145d",
   "metadata": {},
   "outputs": [],
   "source": [
    "likes1 = groups[groups.exp_group == 1].likes.to_numpy()\n",
    "views1 = groups[groups.exp_group == 1].views.to_numpy()\n",
    "likes2 = groups[groups.exp_group == 2].likes.to_numpy()\n",
    "views2 = groups[groups.exp_group == 2].views.to_numpy()"
   ]
  },
  {
   "cell_type": "code",
   "execution_count": 34,
   "id": "4498a55b-5c7b-4cb3-8492-2d52468c96c0",
   "metadata": {},
   "outputs": [],
   "source": [
    "ctr1, ctr2 = bootstrap(likes1, views1, likes2, views2)"
   ]
  },
  {
   "cell_type": "code",
   "execution_count": 78,
   "id": "9fbd9955-0bb0-4390-8d7a-283923a72d27",
   "metadata": {},
   "outputs": [
    {
     "data": {
      "text/plain": [
       "[Text(0.5, 1.0, 'Group 1 & Group 2 CTR')]"
      ]
     },
     "execution_count": 78,
     "metadata": {},
     "output_type": "execute_result"
    },
    {
     "data": {
      "image/png": "[encoded data removed]",
      "text/plain": [
       "<Figure size 792x360 with 1 Axes>"
      ]
     },
     "metadata": {},
     "output_type": "display_data"
    }
   ],
   "source": [
    "sns.histplot(ctr1).set(title='Group 1 & Group 2 CTR')\n",
    "sns.histplot(ctr2).set(title='Group 1 & Group 2 CTR')"
   ]
  },
  {
   "cell_type": "markdown",
   "id": "86de7920-01dd-4fe3-8612-e58747e6a236",
   "metadata": {},
   "source": [
    "### Distribution of CTR"
   ]
  },
  {
   "cell_type": "code",
   "execution_count": 79,
   "id": "dd5a134c-91a9-4c67-9c61-68ae5f9910f9",
   "metadata": {},
   "outputs": [
    {
     "data": {
      "text/plain": [
       "[Text(0.5, 1.0, 'Group 1 & Group 2 CTR Differences')]"
      ]
     },
     "execution_count": 79,
     "metadata": {},
     "output_type": "execute_result"
    },
    {
     "data": {
      "image/png": "[encoded data removed]",
      "text/plain": [
       "<Figure size 792x360 with 1 Axes>"
      ]
     },
     "metadata": {},
     "output_type": "display_data"
    }
   ],
   "source": [
    "sns.histplot(ctr1-ctr2).set(title='Group 1 & Group 2 CTR Differences')"
   ]
  },
  {
   "cell_type": "markdown",
   "id": "a4215259-7e79-45a0-a0a7-872aebc5ac72",
   "metadata": {},
   "source": [
    "## 5.Bucketing transformation"
   ]
  },
  {
   "cell_type": "code",
   "execution_count": 37,
   "id": "0608f9f6-dc5b-46a7-b64e-880d2b1116a6",
   "metadata": {},
   "outputs": [
    {
     "data": {
      "text/html": [
       "<div>\n",
       "<style scoped>\n",
       "    .dataframe tbody tr th:only-of-type {\n",
       "        vertical-align: middle;\n",
       "    }\n",
       "\n",
       "    .dataframe tbody tr th {\n",
       "        vertical-align: top;\n",
       "    }\n",
       "\n",
       "    .dataframe thead th {\n",
       "        text-align: right;\n",
       "    }\n",
       "</style>\n",
       "<table border=\"1\" class=\"dataframe\">\n",
       "  <thead>\n",
       "    <tr style=\"text-align: right;\">\n",
       "      <th></th>\n",
       "      <th>exp_group</th>\n",
       "      <th>bucket</th>\n",
       "      <th>bucket_ctr</th>\n",
       "      <th>ctr9</th>\n",
       "    </tr>\n",
       "  </thead>\n",
       "  <tbody>\n",
       "    <tr>\n",
       "      <th>0</th>\n",
       "      <td>1</td>\n",
       "      <td>0</td>\n",
       "      <td>0.196481</td>\n",
       "      <td>0.307692</td>\n",
       "    </tr>\n",
       "    <tr>\n",
       "      <th>1</th>\n",
       "      <td>2</td>\n",
       "      <td>0</td>\n",
       "      <td>0.194262</td>\n",
       "      <td>0.384615</td>\n",
       "    </tr>\n",
       "    <tr>\n",
       "      <th>2</th>\n",
       "      <td>1</td>\n",
       "      <td>1</td>\n",
       "      <td>0.211887</td>\n",
       "      <td>0.318182</td>\n",
       "    </tr>\n",
       "    <tr>\n",
       "      <th>3</th>\n",
       "      <td>2</td>\n",
       "      <td>1</td>\n",
       "      <td>0.215328</td>\n",
       "      <td>0.467742</td>\n",
       "    </tr>\n",
       "    <tr>\n",
       "      <th>4</th>\n",
       "      <td>1</td>\n",
       "      <td>2</td>\n",
       "      <td>0.206271</td>\n",
       "      <td>0.322314</td>\n",
       "    </tr>\n",
       "  </tbody>\n",
       "</table>\n",
       "</div>"
      ],
      "text/plain": [
       "   exp_group  bucket  bucket_ctr      ctr9\n",
       "0          1       0    0.196481  0.307692\n",
       "1          2       0    0.194262  0.384615\n",
       "2          1       1    0.211887  0.318182\n",
       "3          2       1    0.215328  0.467742\n",
       "4          1       2    0.206271  0.322314"
      ]
     },
     "execution_count": 37,
     "metadata": {},
     "output_type": "execute_result"
    }
   ],
   "source": [
    "sql = '''\n",
    "SELECT exp_group, bucket,\n",
    "    sum(likes)/sum(views) as bucket_ctr,\n",
    "    quantileExact(0.9)(ctr) as ctr9\n",
    "FROM (SELECT exp_group, \n",
    "        xxHash64(user_id)%50 as bucket,\n",
    "        user_id,\n",
    "        sum(action = 'like') as likes,\n",
    "        sum(action = 'view') as views,\n",
    "        likes/views as ctr\n",
    "    FROM {db}.feed_actions \n",
    "    WHERE toDate(time) between '2023-04-01' and '2023-04-07' \n",
    "        and exp_group in (1,2)\n",
    "    GROUP BY exp_group, bucket, user_id)\n",
    "GROUP BY exp_group, bucket\n",
    "'''\n",
    "df = select(sql)\n",
    "df.head()"
   ]
  },
  {
   "cell_type": "markdown",
   "id": "4f067086-f3c3-4142-884c-3f8623d0950c",
   "metadata": {},
   "source": [
    "### Comparing the average CTR"
   ]
  },
  {
   "cell_type": "code",
   "execution_count": 38,
   "id": "251ab7ad-b132-4836-a9dc-6f0d5fa9981f",
   "metadata": {},
   "outputs": [
    {
     "data": {
      "text/plain": [
       "MannwhitneyuResult(statistic=1995.0, pvalue=2.859963936492646e-07)"
      ]
     },
     "execution_count": 38,
     "metadata": {},
     "output_type": "execute_result"
    }
   ],
   "source": [
    "stats.mannwhitneyu(df[df.exp_group == 1].bucket_ctr, \n",
    "                   df[df.exp_group == 2].bucket_ctr, \n",
    "                   alternative = 'two-sided')"
   ]
  },
  {
   "cell_type": "markdown",
   "id": "661e68a4-a415-4374-b027-4e510a0a103e",
   "metadata": {},
   "source": [
    "By th results of u-test MW, It can be concluded that the differences between the groups are statistically significant."
   ]
  },
  {
   "cell_type": "code",
   "execution_count": 39,
   "id": "6860d741-c486-48f7-b39a-f6be222fc7fa",
   "metadata": {},
   "outputs": [
    {
     "data": {
      "text/plain": [
       "Ttest_indResult(statistic=5.668234732053979, pvalue=3.4455951649945907e-07)"
      ]
     },
     "execution_count": 39,
     "metadata": {},
     "output_type": "execute_result"
    }
   ],
   "source": [
    "stats.ttest_ind(df[df.exp_group == 1].bucket_ctr, \n",
    "                df[df.exp_group == 2].bucket_ctr, \n",
    "                   equal_var = False)"
   ]
  },
  {
   "cell_type": "code",
   "execution_count": null,
   "id": "2eefee83-36b6-4ac6-a033-de9fac0f7283",
   "metadata": {},
   "outputs": [],
   "source": [
    "by the results of t-test, It can be concluded that the differences between the groups are statistically significant."
   ]
  },
  {
   "cell_type": "code",
   "execution_count": 80,
   "id": "05baa9a6-5f0c-4956-99bd-9d880f7a9346",
   "metadata": {},
   "outputs": [
    {
     "data": {
      "text/plain": [
       "[Text(0.5, 1.0, 'Group 1 CTR')]"
      ]
     },
     "execution_count": 80,
     "metadata": {},
     "output_type": "execute_result"
    },
    {
     "data": {
      "image/png": "[encoded data removed]",
      "text/plain": [
       "<Figure size 792x360 with 1 Axes>"
      ]
     },
     "metadata": {},
     "output_type": "display_data"
    }
   ],
   "source": [
    "sns.histplot(df[df.exp_group == 1].bucket_ctr).set(title='Group 1 CTR')"
   ]
  },
  {
   "cell_type": "code",
   "execution_count": 81,
   "id": "1efc904c-0def-410e-b2e0-74c2082db8f0",
   "metadata": {},
   "outputs": [
    {
     "data": {
      "text/plain": [
       "[Text(0.5, 1.0, 'Group 2 CTR')]"
      ]
     },
     "execution_count": 81,
     "metadata": {},
     "output_type": "execute_result"
    },
    {
     "data": {
      "image/png": "[encoded data removed]",
      "text/plain": [
       "<Figure size 792x360 with 1 Axes>"
      ]
     },
     "metadata": {},
     "output_type": "display_data"
    }
   ],
   "source": [
    "sns.histplot(df[df.exp_group == 2].bucket_ctr).set(title='Group 2 CTR')"
   ]
  },
  {
   "cell_type": "markdown",
   "id": "df338bc5-70c6-475a-9734-83a98bcf0396",
   "metadata": {},
   "source": [
    "### Comparison of 90% CTR"
   ]
  },
  {
   "cell_type": "code",
   "execution_count": 83,
   "id": "eabef78c-4adb-4cc2-b3df-c583d56b249f",
   "metadata": {},
   "outputs": [
    {
     "data": {
      "text/plain": [
       "[Text(0.5, 1.0, 'Group 1 CTR9')]"
      ]
     },
     "execution_count": 83,
     "metadata": {},
     "output_type": "execute_result"
    },
    {
     "data": {
      "image/png": "[encoded data removed]",
      "text/plain": [
       "<Figure size 792x360 with 1 Axes>"
      ]
     },
     "metadata": {},
     "output_type": "display_data"
    }
   ],
   "source": [
    "sns.histplot(df[df.exp_group == 1].ctr9).set(title='Group 1 CTR9')"
   ]
  },
  {
   "cell_type": "code",
   "execution_count": 84,
   "id": "8b3fbe17-a8b9-4767-ba2c-f43836b7de9f",
   "metadata": {},
   "outputs": [
    {
     "data": {
      "text/plain": [
       "[Text(0.5, 1.0, 'Group 2 CTR9')]"
      ]
     },
     "execution_count": 84,
     "metadata": {},
     "output_type": "execute_result"
    },
    {
     "data": {
      "image/png": "[encoded data removed]",
      "text/plain": [
       "<Figure size 792x360 with 1 Axes>"
      ]
     },
     "metadata": {},
     "output_type": "display_data"
    }
   ],
   "source": [
    "sns.histplot(df[df.exp_group == 2].ctr9).set(title='Group 2 CTR9')"
   ]
  },
  {
   "cell_type": "code",
   "execution_count": 44,
   "id": "0d349f0f-b7c4-430d-a67d-03fa330652e9",
   "metadata": {},
   "outputs": [
    {
     "data": {
      "text/plain": [
       "Ttest_indResult(statistic=-23.214341215937406, pvalue=1.2945537024964474e-40)"
      ]
     },
     "execution_count": 44,
     "metadata": {},
     "output_type": "execute_result"
    }
   ],
   "source": [
    "stats.ttest_ind(df[df.exp_group == 1].ctr9, \n",
    "                df[df.exp_group == 2].ctr9, \n",
    "                   equal_var = False)"
   ]
  },
  {
   "cell_type": "code",
   "execution_count": null,
   "id": "a11a67f6-5fd4-49ce-ba58-3c478150e7da",
   "metadata": {},
   "outputs": [],
   "source": [
    "It can be concluded that the differences between the groups are statistically significant."
   ]
  },
  {
   "cell_type": "markdown",
   "id": "06221da2-453b-4cbd-8a02-8373fc1e8012",
   "metadata": {},
   "source": [
    "#2 Analysis of the obtained results  \n",
    "On the main chart, it is evident that there are differences, as the CTR (click-through rate) graph of the first group exhibits a unimodal (almost normal) distribution, while the CTR graph of the second group shows a bimodal distribution.\n",
    "According to theory, applying the t-test in such a case yields unreliable results (although I performed it for illustrative purposes).\n",
    "  \n",
    "Based on the results, only the t-test indicated no statistically significant differences. However, the Mann-Whitney test, smoothed CTR, bootstrap and bucket conversion demonstrated the presence of differences."
   ]
  },
  {
   "cell_type": "markdown",
   "id": "6adbc0d8-aa1b-4e7b-82ab-7c1d52bb2af1",
   "metadata": {},
   "source": [
    "#3 Why did this happen?  \n",
    "The bimodal distribution in the test group may be caused by the presence of different subgroups of users. For example, it is possible that one subgroup of users prefers content with very high CTR, while another subgroup prefers content with lower CTR.\n",
    "\n",
    "Thus, in the test group, there may be two differents populations of users, each with its own preferences and behaviors. This can result in two peaks in the CTR distribution. On the other hand, the control group may have fewer differences in user behavior, and therefore, the CTR distribution may be more closer to normal.\n",
    "\n",
    "I also recommended to make sure that such bimodal distribution is not caused by data errors or outliers that could impact the A/B testing results. In such cases, additional data analysis may be required to identify and exclude outliers in order to obtain more accurate testing results."
   ]
  },
  {
   "cell_type": "markdown",
   "id": "6b81bdcc-6399-418b-bea6-0db344ef5c4e",
   "metadata": {},
   "source": [
    "#4 Algorithm Recommendations  \n",
    "I would suggest conducting a more detailed research  of such ambiguous distribution, as the algorithm will undoubtedly behave differently with specific user groups. Therefore, it is necessary to thoroughly examine everything before rolling out the new algorithm."
   ]
  },
  {
   "cell_type": "code",
   "execution_count": null,
   "id": "745a85f7-50b8-4fe6-b55f-4f545dc3a8e8",
   "metadata": {},
   "outputs": [],
   "source": []
  }
 ],
 "metadata": {
  "kernelspec": {
   "display_name": "Python 3 (ipykernel)",
   "language": "python",
   "name": "python3"
  },
  "language_info": {
   "codemirror_mode": {
    "name": "ipython",
    "version": 3
   },
   "file_extension": ".py",
   "mimetype": "text/x-python",
   "name": "python",
   "nbconvert_exporter": "python",
   "pygments_lexer": "ipython3",
   "version": "3.8.10"
  }
 },
 "nbformat": 4,
 "nbformat_minor": 5
}
